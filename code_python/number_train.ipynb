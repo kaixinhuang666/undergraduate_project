{
 "cells": [
  {
   "cell_type": "code",
   "execution_count": 1,
   "id": "65075232",
   "metadata": {},
   "outputs": [],
   "source": [
    "import torch\n",
    "from torch import nn\n",
    "import torchvision\n",
    "from torch.utils import data\n",
    "from torchvision import transforms\n",
    "# 记录\n",
    "#from torch.utils.tensorboard import SummaryWriter\n",
    "import logging\n",
    "import torch.nn.functional as F\n"
   ]
  },
  {
   "cell_type": "code",
   "execution_count": 2,
   "id": "40421f8e",
   "metadata": {},
   "outputs": [
    {
     "name": "stdout",
     "output_type": "stream",
     "text": [
      "//////////////// cuda:0\n"
     ]
    }
   ],
   "source": [
    "device = torch.device('cuda:0' if torch.cuda.is_available() else 'cpu')\n",
    "print(\"////////////////\",device)"
   ]
  },
  {
   "cell_type": "code",
   "execution_count": 3,
   "id": "fd6fffe7",
   "metadata": {},
   "outputs": [
    {
     "name": "stdout",
     "output_type": "stream",
     "text": [
      "Downloading http://yann.lecun.com/exdb/mnist/train-images-idx3-ubyte.gz\n",
      "Downloading http://yann.lecun.com/exdb/mnist/train-images-idx3-ubyte.gz to ./data\\MNIST\\raw\\train-images-idx3-ubyte.gz\n"
     ]
    },
    {
     "name": "stderr",
     "output_type": "stream",
     "text": [
      "31.0%IOPub message rate exceeded.\n",
      "The notebook server will temporarily stop sending output\n",
      "to the client in order to avoid crashing it.\n",
      "To change this limit, set the config variable\n",
      "`--NotebookApp.iopub_msg_rate_limit`.\n",
      "\n",
      "Current values:\n",
      "NotebookApp.iopub_msg_rate_limit=1000.0 (msgs/sec)\n",
      "NotebookApp.rate_limit_window=3.0 (secs)\n",
      "\n",
      "100.0%\n"
     ]
    },
    {
     "name": "stdout",
     "output_type": "stream",
     "text": [
      "Extracting ./data\\MNIST\\raw\\train-images-idx3-ubyte.gz to ./data\\MNIST\\raw\n",
      "\n",
      "Downloading http://yann.lecun.com/exdb/mnist/train-labels-idx1-ubyte.gz\n",
      "Downloading http://yann.lecun.com/exdb/mnist/train-labels-idx1-ubyte.gz to ./data\\MNIST\\raw\\train-labels-idx1-ubyte.gz\n"
     ]
    },
    {
     "name": "stderr",
     "output_type": "stream",
     "text": [
      "102.8%\n"
     ]
    },
    {
     "name": "stdout",
     "output_type": "stream",
     "text": [
      "Extracting ./data\\MNIST\\raw\\train-labels-idx1-ubyte.gz to ./data\\MNIST\\raw\n",
      "\n",
      "Downloading http://yann.lecun.com/exdb/mnist/t10k-images-idx3-ubyte.gz\n",
      "Downloading http://yann.lecun.com/exdb/mnist/t10k-images-idx3-ubyte.gz to ./data\\MNIST\\raw\\t10k-images-idx3-ubyte.gz\n"
     ]
    },
    {
     "name": "stderr",
     "output_type": "stream",
     "text": [
      "100.0%\n"
     ]
    },
    {
     "name": "stdout",
     "output_type": "stream",
     "text": [
      "Extracting ./data\\MNIST\\raw\\t10k-images-idx3-ubyte.gz to ./data\\MNIST\\raw\n",
      "\n",
      "Downloading http://yann.lecun.com/exdb/mnist/t10k-labels-idx1-ubyte.gz\n",
      "Downloading http://yann.lecun.com/exdb/mnist/t10k-labels-idx1-ubyte.gz to ./data\\MNIST\\raw\\t10k-labels-idx1-ubyte.gz\n"
     ]
    },
    {
     "name": "stderr",
     "output_type": "stream",
     "text": [
      "112.7%"
     ]
    },
    {
     "name": "stdout",
     "output_type": "stream",
     "text": [
      "Extracting ./data\\MNIST\\raw\\t10k-labels-idx1-ubyte.gz to ./data\\MNIST\\raw\n",
      "\n",
      "训练集长度： 60000\n",
      "图片形状： torch.Size([1, 28, 28])\n",
      "lable： 5\n"
     ]
    },
    {
     "name": "stderr",
     "output_type": "stream",
     "text": [
      "\n"
     ]
    }
   ],
   "source": [
    "def load_data_mnist(batch_size):  #@save\n",
    "    trans = [transforms.ToTensor()]\n",
    "    trans = transforms.Compose(trans)\n",
    "    mnist_train = torchvision.datasets.MNIST(\n",
    "        root=\"./data\", train=True, transform=trans, download=True)\n",
    "    mnist_test = torchvision.datasets.MNIST(\n",
    "        root=\"./data\", train=False, transform=trans, download=True)\n",
    "    print('训练集长度：',len(mnist_train))\n",
    "    print('图片形状：',mnist_train[0][0].shape)\n",
    "    print('lable：',mnist_train[0][1])\n",
    "    return (data.DataLoader(mnist_train, batch_size, shuffle=True),\n",
    "    data.DataLoader(mnist_test, batch_size, shuffle=False))\n",
    "# 一批图片 256 \n",
    "batch_size = 256\n",
    "train_loader,test_loader = load_data_mnist(batch_size=batch_size)"
   ]
  },
  {
   "cell_type": "code",
   "execution_count": 5,
   "id": "99dd3376",
   "metadata": {},
   "outputs": [],
   "source": [
    "class letnet(nn.Module):\n",
    "    def __init__(self):\n",
    "        super().__init__()\n",
    "        self.dnn = torch.nn.Sequential(nn.Conv2d(1, 6, kernel_size=5,padding=2),\n",
    "                          nn.Sigmoid(),\n",
    "                          nn.AvgPool2d(kernel_size=2, stride=2),\n",
    "                          nn.Conv2d(6, 16, kernel_size=5), nn.Sigmoid(),\n",
    "                          nn.AvgPool2d(kernel_size=2, stride=2), nn.Flatten(),\n",
    "                          nn.Linear(16 * 5 * 5, 120), nn.Sigmoid(),\n",
    "                          nn.Linear(120, 84), nn.Sigmoid(), nn.Linear(84, 10))\n",
    "    def forward(self, x):\n",
    "        out = self.dnn(x)\n",
    "        out= F.softmax(out, dim=1)\n",
    "        return out"
   ]
  },
  {
   "cell_type": "code",
   "execution_count": 6,
   "id": "9d049f1b",
   "metadata": {},
   "outputs": [],
   "source": [
    "net = letnet().dnn\n",
    "######## 输入一批256张图 输出256个预测结果  每个预测结果有10个概率\n",
    "X = torch.rand(size=(256, 1, 28, 28), dtype=torch.float32)"
   ]
  },
  {
   "cell_type": "code",
   "execution_count": 7,
   "id": "ce06199b",
   "metadata": {},
   "outputs": [],
   "source": [
    "def train(epoch, model):\n",
    "    train_loss = 0\n",
    "    train_acc_num = 0\n",
    "    model.train()\n",
    "    for feature, lable in train_loader:\n",
    "        \n",
    "        feature = feature.to(device)\n",
    "        lable = lable.to(device)\n",
    "        optimizer.zero_grad()\n",
    "        preds = model(feature)\n",
    "        loss = criterion(preds, lable)\n",
    "        loss.backward()\n",
    "        optimizer.step()\n",
    "        train_acc_num += (preds.argmax(1) == lable).sum()\n",
    "        train_loss += loss.item() / len(train_loader)\n",
    "    train_acc = train_acc_num / len(train_loader.dataset)\n",
    "    print(f'Epoch:{epoch:3} | Train Loss:{train_loss:6.4f} | Train Acc:{train_acc:6.4f}')\n"
   ]
  },
  {
   "cell_type": "code",
   "execution_count": 8,
   "id": "4d7b739e",
   "metadata": {},
   "outputs": [],
   "source": [
    "def test(model):\n",
    "    test_acc_num = 0\n",
    "    model.eval()\n",
    "    with torch.no_grad():\n",
    "        for feature, lable in test_loader:\n",
    "            feature = feature.to(device)\n",
    "            lable = lable.to(device)\n",
    "            preds = model(feature)\n",
    "            test_acc_num += (preds.argmax(1) == lable).sum()\n",
    "    test_acc = test_acc_num / len(test_loader.dataset)\n",
    "    print(f'Test Acc:{test_acc:6.4f}')\n",
    "    return float(test_acc)"
   ]
  },
  {
   "cell_type": "code",
   "execution_count": 15,
   "id": "854fb680",
   "metadata": {},
   "outputs": [],
   "source": [
    "def Train(epochs, net, name):\n",
    "    max = 0\n",
    "    #writer = SummaryWriter(ScaleName)\n",
    "    #logging.debug(\"/////////////////start training name:\"+name+\"/////////////////\")  # 参数msg\n",
    "    print(\"////////////////start training name:\"+name+\"//////////////////\")  # 参数msg\n",
    "    for epoch in range(epochs):\n",
    "        # 训练\n",
    "        train(epoch, net)\n",
    "        # 测试输出\n",
    "        x = test(net)\n",
    "        #writer.add_scalar(name,x,epoch)\n",
    "        # 获取到最大的进行保存和打印\n",
    "        if max < x:\n",
    "            max = x\n",
    "            print(\"max:\", max, \"epoch:\", epoch)\n",
    "            torch.save(net.state_dict(), \"netmax_{}.pth\".format(name))\n",
    "            #logging.debug(\"max:\"+str(max)+\"epoch:\"+str(epoch))  # 参数msg\n",
    "    #writer.close()\n",
    "    #logging.debug(\"********************训练完毕****************\")  # 参数msg\n",
    "    print(\"********************训练完毕****************\")\n"
   ]
  },
  {
   "cell_type": "code",
   "execution_count": 18,
   "id": "a5c20ee7",
   "metadata": {},
   "outputs": [
    {
     "name": "stdout",
     "output_type": "stream",
     "text": [
      "////////////////start training name:try5onnx//////////////////\n",
      "Epoch:  0 | Train Loss:2.2414 | Train Acc:0.1845\n",
      "Test Acc:0.3776\n",
      "max: 0.3775999844074249 epoch: 0\n",
      "Epoch:  1 | Train Loss:1.8963 | Train Acc:0.5938\n",
      "Test Acc:0.7162\n",
      "max: 0.7161999940872192 epoch: 1\n",
      "Epoch:  2 | Train Loss:1.7108 | Train Acc:0.7765\n",
      "Test Acc:0.8119\n",
      "max: 0.8118999600410461 epoch: 2\n",
      "Epoch:  3 | Train Loss:1.6524 | Train Acc:0.8194\n",
      "Test Acc:0.8337\n",
      "max: 0.8337000012397766 epoch: 3\n",
      "Epoch:  4 | Train Loss:1.6319 | Train Acc:0.8357\n",
      "Test Acc:0.8460\n",
      "max: 0.8459999561309814 epoch: 4\n",
      "Epoch:  5 | Train Loss:1.6205 | Train Acc:0.8451\n",
      "Test Acc:0.8538\n",
      "max: 0.8537999987602234 epoch: 5\n",
      "Epoch:  6 | Train Loss:1.6054 | Train Acc:0.8638\n",
      "Test Acc:0.9075\n",
      "max: 0.9074999690055847 epoch: 6\n",
      "Epoch:  7 | Train Loss:1.5537 | Train Acc:0.9214\n",
      "Test Acc:0.9294\n",
      "max: 0.9293999671936035 epoch: 7\n",
      "Epoch:  8 | Train Loss:1.5345 | Train Acc:0.9353\n",
      "Test Acc:0.9374\n",
      "max: 0.9373999834060669 epoch: 8\n",
      "Epoch:  9 | Train Loss:1.5253 | Train Acc:0.9428\n",
      "Test Acc:0.9477\n",
      "max: 0.9476999640464783 epoch: 9\n",
      "Epoch: 10 | Train Loss:1.5183 | Train Acc:0.9483\n",
      "Test Acc:0.9501\n",
      "max: 0.9501000046730042 epoch: 10\n",
      "Epoch: 11 | Train Loss:1.5130 | Train Acc:0.9531\n",
      "Test Acc:0.9573\n",
      "max: 0.9572999477386475 epoch: 11\n",
      "Epoch: 12 | Train Loss:1.5090 | Train Acc:0.9566\n",
      "Test Acc:0.9589\n",
      "max: 0.958899974822998 epoch: 12\n",
      "Epoch: 13 | Train Loss:1.5047 | Train Acc:0.9602\n",
      "Test Acc:0.9607\n",
      "max: 0.9606999754905701 epoch: 13\n",
      "Epoch: 14 | Train Loss:1.5018 | Train Acc:0.9631\n",
      "Test Acc:0.9653\n",
      "max: 0.9652999639511108 epoch: 14\n",
      "Epoch: 15 | Train Loss:1.4991 | Train Acc:0.9658\n",
      "Test Acc:0.9687\n",
      "max: 0.9686999917030334 epoch: 15\n",
      "Epoch: 16 | Train Loss:1.4964 | Train Acc:0.9682\n",
      "Test Acc:0.9682\n",
      "Epoch: 17 | Train Loss:1.4944 | Train Acc:0.9696\n",
      "Test Acc:0.9727\n",
      "max: 0.9726999998092651 epoch: 17\n",
      "Epoch: 18 | Train Loss:1.4926 | Train Acc:0.9715\n",
      "Test Acc:0.9686\n",
      "Epoch: 19 | Train Loss:1.4913 | Train Acc:0.9725\n",
      "Test Acc:0.9732\n",
      "max: 0.9731999635696411 epoch: 19\n",
      "Epoch: 20 | Train Loss:1.4896 | Train Acc:0.9741\n",
      "Test Acc:0.9750\n",
      "max: 0.9749999642372131 epoch: 20\n",
      "Epoch: 21 | Train Loss:1.4884 | Train Acc:0.9749\n",
      "Test Acc:0.9728\n",
      "Epoch: 22 | Train Loss:1.4874 | Train Acc:0.9764\n",
      "Test Acc:0.9769\n",
      "max: 0.9768999814987183 epoch: 22\n",
      "Epoch: 23 | Train Loss:1.4863 | Train Acc:0.9773\n",
      "Test Acc:0.9774\n",
      "max: 0.977400004863739 epoch: 23\n",
      "Epoch: 24 | Train Loss:1.4848 | Train Acc:0.9789\n",
      "Test Acc:0.9784\n",
      "max: 0.9783999919891357 epoch: 24\n",
      "********************训练完毕****************\n"
     ]
    }
   ],
   "source": [
    "net =letnet()\n",
    "net.to(device)\n",
    "criterion = nn.CrossEntropyLoss()\n",
    "optimizer = torch.optim.Adam(net.parameters(), lr=0.001)\n",
    "Train(25, net,\"try5onnx\")"
   ]
  },
  {
   "cell_type": "code",
   "execution_count": null,
   "id": "1f8b56fa",
   "metadata": {},
   "outputs": [],
   "source": []
  }
 ],
 "metadata": {
  "kernelspec": {
   "display_name": "pytorch",
   "language": "python",
   "name": "pytorch"
  },
  "language_info": {
   "codemirror_mode": {
    "name": "ipython",
    "version": 3
   },
   "file_extension": ".py",
   "mimetype": "text/x-python",
   "name": "python",
   "nbconvert_exporter": "python",
   "pygments_lexer": "ipython3",
   "version": "3.6.13"
  }
 },
 "nbformat": 4,
 "nbformat_minor": 5
}
